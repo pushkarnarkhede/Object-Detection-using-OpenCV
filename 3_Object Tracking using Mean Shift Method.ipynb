{
 "cells": [
  {
   "cell_type": "markdown",
   "id": "a613919b",
   "metadata": {},
   "source": [
    "### Mean shift for object tracking"
   ]
  },
  {
   "cell_type": "code",
   "execution_count": 47,
   "id": "5c306fc7",
   "metadata": {},
   "outputs": [],
   "source": [
    "import cv2\n",
    "import numpy as np\n",
    "\n",
    "video_file_path = 'videos/traffic_car_video.mp4'\n",
    "cap = cv2.VideoCapture(0) # just pass the video file path here\n",
    "\n",
    "ret, frame = cap.read()\n",
    "\n",
    "# declare the initial box for tracking\n",
    "track_box = (500,0,50,50) \n",
    "    \n",
    "# convert the color frame to hsv \n",
    "hsv_img = cv2.cvtColor(frame, cv2.COLOR_BGR2HSV)\n",
    "    \n",
    "# create the mask using hsv color space \n",
    "# this code developed to track a red color ball \n",
    "# use webcam and show red ball from the green frame it start tracking\n",
    "# required to optimize so that it automaticall detect the red ball at starting\n",
    "\n",
    "mask1 = cv2.inRange(hsv_img, np.array([0,0,0]), np.array([15,255,255]))\n",
    "mask2 = cv2.inRange(hsv_img, np.array([170,0,0]), np.array([180,255,255]))\n",
    "\n",
    "mask = mask1 + mask2\n",
    "    \n",
    "# calculate the color histogram and normalize it    \n",
    "img_hist = cv2.calcHist([hsv_img], [0], mask, [180], [0, 180])\n",
    "cv2.normalize(img_hist, img_hist, 0, 255, cv2.NORM_MINMAX)\n",
    "    \n",
    "# setup the termination criteria\n",
    "termination_criteria = (cv2.TERM_CRITERIA_EPS | cv2.TERM_CRITERIA_COUNT, 10, 1)\n",
    "\n",
    "\n",
    "while True:\n",
    "    ret, frame = cap.read()\n",
    "    \n",
    "    if not ret:\n",
    "        print(\"Not able to load video frame\")\n",
    "        break\n",
    "        \n",
    "    hsv_img2 = cv2.cvtColor(frame, cv2.COLOR_BGR2HSV)\n",
    "    final_img = cv2.calcBackProject([hsv_img2], [0], img_hist, [0, 180], 1)\n",
    "    \n",
    "    ret, track_box = cv2.meanShift(final_img, track_box, termination_criteria)\n",
    "    \n",
    "    x,y,w,h = track_box\n",
    "    \n",
    "    img2 = cv2.rectangle(frame, (x,y), (x+w, y+h), (0,255,0), 1)    \n",
    "        \n",
    "    img3 = cv2.flip(img2, 1)\n",
    "    cv2.imshow('Video', img3)\n",
    "    \n",
    "    if cv2.waitKey(1) == ord('q'):\n",
    "        break\n",
    "    \n",
    "cap.release()\n",
    "cv2.destroyAllWindows()\n",
    "    "
   ]
  },
  {
   "cell_type": "code",
   "execution_count": null,
   "id": "20aff3e9",
   "metadata": {},
   "outputs": [],
   "source": []
  }
 ],
 "metadata": {
  "kernelspec": {
   "display_name": "Python 3 (ipykernel)",
   "language": "python",
   "name": "python3"
  },
  "language_info": {
   "codemirror_mode": {
    "name": "ipython",
    "version": 3
   },
   "file_extension": ".py",
   "mimetype": "text/x-python",
   "name": "python",
   "nbconvert_exporter": "python",
   "pygments_lexer": "ipython3",
   "version": "3.9.13"
  }
 },
 "nbformat": 4,
 "nbformat_minor": 5
}
